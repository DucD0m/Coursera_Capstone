{
    "cells": [
        {
            "cell_type": "markdown",
            "metadata": {
                "collapsed": true
            },
            "source": "# IBM Data Science Capstone - Neighborhoods\n### This notebook will be used for the capstone project in the Data Science Professional Certificate"
        },
        {
            "cell_type": "code",
            "execution_count": 1,
            "metadata": {},
            "outputs": [],
            "source": "import pandas as pd\nimport numpy as np"
        },
        {
            "cell_type": "code",
            "execution_count": 2,
            "metadata": {},
            "outputs": [
                {
                    "name": "stdout",
                    "output_type": "stream",
                    "text": "Hello Capstone Project Course!\n"
                }
            ],
            "source": "print ('Hello Capstone Project Course!')"
        },
        {
            "cell_type": "markdown",
            "metadata": {},
            "source": "## Introduction"
        },
        {
            "cell_type": "markdown",
            "metadata": {},
            "source": "You mighgt be a seasoned traveller that's been many places. You're a foodie and love theatres. You've travelled to many cities before and you don't really know where you would like to go next? Wouldn't it be nice to get new travel ideas? To find new cities based on how similar they are to the ones you liked in your previous travels?\n\nOr, you might be a business man that travels around a world to sign deals. Everywhere you go, you need to take your futur clients out and entertain them to talk business in a relaxed setting.  Wouldn't it be nice if you could know how similar the next city you're going to go to is to the ones you know already? \n\nUsually, all these travels start with landing in a major city. Often, these are either country capitals or financial centers. The problem we're going to solve is to answer these questions: How is one city similar to the others? What are the most common venues that set these cities appart?\n\nAnd to answer these questions, we're going to compare and cluster capitals and financial centers based on the Foursquare API explore venues feature."
        },
        {
            "cell_type": "markdown",
            "metadata": {},
            "source": "## Data"
        },
        {
            "cell_type": "markdown",
            "metadata": {},
            "source": "The datasets we will need for this analysis are a list of capital cities and financial centers of the world. To build that list, we will scrape two pages from Wikipedia. \n\nThoses pages are \"List_of_national_capitals\" and \"Global_Financial_Centres_Index\".\n \nNext, we will need to get the venues in every city. For this, we will use the Fourquare API with the maximum setting of 100 000 meters. This will give us a range of 100 km to explore and will cover an area that would be accessible to travelers and business men for a day trip by car or public transport.\n\nTo feed the Foursquare API, we will need the geographical coordinates for every city. Those will be provided using the geocoders Nominatim library."
        },
        {
            "cell_type": "markdown",
            "metadata": {},
            "source": "### Example of the capital cities dataset"
        },
        {
            "cell_type": "code",
            "execution_count": 3,
            "metadata": {},
            "outputs": [
                {
                    "name": "stdout",
                    "output_type": "stream",
                    "text": "                                             City/Town     Country/Territory  \\\n0    Abidjan (former capital; still has many govern...           Ivory Coast   \n1                              Yamoussoukro (official)           Ivory Coast   \n2                                            Abu Dhabi  United Arab Emirates   \n3                                                Abuja               Nigeria   \n4                                                Accra                 Ghana   \n..                                                 ...                   ...   \n251                                           Windhoek               Namibia   \n252                                            Yaound\u00e9              Cameroon   \n253                                   Yaren (de facto)                 Nauru   \n254                                            Yerevan               Armenia   \n255                                             Zagreb               Croatia   \n\n                                                 Notes  \n0                                                  NaN  \n1                                                  NaN  \n2                                                  NaN  \n3             Lagos was the capital from 1914 to 1991.  \n4                                                  NaN  \n..                                                 ...  \n251                                                NaN  \n252                                                NaN  \n253  Country does not have an official capital; how...  \n254                                                NaN  \n255                                                NaN  \n\n[256 rows x 3 columns]\n"
                }
            ],
            "source": "url = 'https://en.wikipedia.org/wiki/List_of_national_capitals' \ndfs = pd.read_html(url)\nprint(dfs[1])"
        },
        {
            "cell_type": "code",
            "execution_count": 4,
            "metadata": {},
            "outputs": [
                {
                    "name": "stdout",
                    "output_type": "stream",
                    "text": "(256, 2)\n"
                },
                {
                    "data": {
                        "text/html": "<div>\n<style scoped>\n    .dataframe tbody tr th:only-of-type {\n        vertical-align: middle;\n    }\n\n    .dataframe tbody tr th {\n        vertical-align: top;\n    }\n\n    .dataframe thead th {\n        text-align: right;\n    }\n</style>\n<table border=\"1\" class=\"dataframe\">\n  <thead>\n    <tr style=\"text-align: right;\">\n      <th></th>\n      <th>Capital</th>\n      <th>Country</th>\n    </tr>\n  </thead>\n  <tbody>\n    <tr>\n      <th>0</th>\n      <td>Abidjan (former capital; still has many govern...</td>\n      <td>Ivory Coast</td>\n    </tr>\n    <tr>\n      <th>1</th>\n      <td>Yamoussoukro (official)</td>\n      <td>Ivory Coast</td>\n    </tr>\n    <tr>\n      <th>2</th>\n      <td>Abu Dhabi</td>\n      <td>United Arab Emirates</td>\n    </tr>\n    <tr>\n      <th>3</th>\n      <td>Abuja</td>\n      <td>Nigeria</td>\n    </tr>\n    <tr>\n      <th>4</th>\n      <td>Accra</td>\n      <td>Ghana</td>\n    </tr>\n    <tr>\n      <th>5</th>\n      <td>Adamstown</td>\n      <td>Pitcairn Islands</td>\n    </tr>\n    <tr>\n      <th>6</th>\n      <td>Addis Ababa</td>\n      <td>Ethiopia</td>\n    </tr>\n    <tr>\n      <th>7</th>\n      <td>Aden (de facto, temporary)</td>\n      <td>Yemen</td>\n    </tr>\n    <tr>\n      <th>8</th>\n      <td>Sana'a (de jure)</td>\n      <td>Yemen</td>\n    </tr>\n    <tr>\n      <th>9</th>\n      <td>Algiers</td>\n      <td>Algeria</td>\n    </tr>\n  </tbody>\n</table>\n</div>",
                        "text/plain": "                                             Capital               Country\n0  Abidjan (former capital; still has many govern...           Ivory Coast\n1                            Yamoussoukro (official)           Ivory Coast\n2                                          Abu Dhabi  United Arab Emirates\n3                                              Abuja               Nigeria\n4                                              Accra                 Ghana\n5                                          Adamstown      Pitcairn Islands\n6                                        Addis Ababa              Ethiopia\n7                         Aden (de facto, temporary)                 Yemen\n8                                   Sana'a (de jure)                 Yemen\n9                                            Algiers               Algeria"
                    },
                    "execution_count": 4,
                    "metadata": {},
                    "output_type": "execute_result"
                }
            ],
            "source": "dfCap = pd.DataFrame()\ncity = dfs[1]['City/Town'] \ncountry = dfs[1]['Country/Territory']  \ndfCap['Capital'] = city\ndfCap['Country'] = country\nprint(dfCap.shape)\ndfCap.head(10)"
        },
        {
            "cell_type": "markdown",
            "metadata": {},
            "source": "### Example of the financial centers dataset"
        },
        {
            "cell_type": "code",
            "execution_count": 5,
            "metadata": {},
            "outputs": [
                {
                    "name": "stdout",
                    "output_type": "stream",
                    "text": "    Rank  Change            Centre  Rating  Change.1\n0      1     NaN     New York City     770       1.0\n1      2     NaN            London     766      24.0\n2      3     1.0          Shanghai     748       8.0\n3      4     1.0             Tokyo     747       6.0\n4      5     1.0         Hong Kong     743       6.0\n5      6     1.0         Singapore     742       4.0\n6      7     NaN           Beijing     741       7.0\n7      8     NaN     San Francisco     738       6.0\n8      9     2.0          Shenzhen     732      10.0\n9     10     4.0            Zurich     724       5.0\n10    11     1.0       Los Angeles     720       3.0\n11    12     6.0        Luxembourg     719       4.0\n12    13     4.0         Edinburgh     718       2.0\n13    14     5.0            Geneva     717      12.0\n14    15    10.0            Boston     716       8.0\n15    16     3.0         Frankfurt     715       5.0\n16    17     5.0             Dubai     714       7.0\n17    18     3.0             Paris     713       5.0\n18    19     5.0  Washington, D.C.     712       3.0\n19    20     4.0           Chicago     711       6.0\n20    21     2.0         Guangzhou     710       4.0\n21    22     5.0         Amsterdam     701       2.0\n22    23     5.0         Stockholm     700       2.0\n23    24     2.0         Vancouver     698      13.0\n24    25     8.0             Seoul     695       1.0\n25    26     NaN          Montreal     694      10.0\n26    27     6.0         Melbourne     693      19.0\n27    28    15.0            Madrid     692      14.0\n28    29     NaN           Hamburg     690       9.0\n29    30     4.0          Brussels     686       5.0\n30    31     8.0           Toronto     684      26.0\n31    32    12.0            Sydney     682      31.0\n32    33     6.0         Abu Dhabi     681       1.0\n33    34     4.0            Dublin     679      19.0\n34    35    10.0            Mumbai     678       6.0\n35    36     1.0        Copenhagen     674      15.0\n36    37     5.0         Stuttgart     672      24.0\n37    38     4.0             Milan     670       9.0\n38    39    20.0             Osaka     665       9.0\n39    40    11.0             Busan     664       NaN\n40    41     3.0      Kuala Lumpur     663      14.0\n41    42    33.0            Taipei     662      22.0\n42    43    31.0           Chengdu     659      18.0\n43    44    13.0        Wellington     657      40.0\n44    45     9.0          Tel Aviv     656      32.0\n45    46     5.0        Casablanca     655      25.0\n46    47    52.0           Qingdao     654      44.0\n47    48    11.0            Munich     653      34.0\n48    49    20.0         New Delhi     652       6.0\n49    50    11.0              Oslo     651       3.0\n50    51    11.0           Calgary     649      32.0\n51    52    13.0           Glasgow     648       2.0\n52    53     NaN              Rome     643      19.0\n53    54    16.0            Vienna     640      45.0\n54    55     6.0       Jersey (CD)     637      29.0\n55    56     8.0              Doha     627      42.0\n"
                }
            ],
            "source": "url2 = 'https://en.wikipedia.org/wiki/Global_Financial_Centres_Index' \ndff = pd.read_html(url2)\nprint(dff[1])"
        },
        {
            "cell_type": "code",
            "execution_count": 7,
            "metadata": {},
            "outputs": [
                {
                    "name": "stdout",
                    "output_type": "stream",
                    "text": "(111, 1)\n"
                },
                {
                    "data": {
                        "text/html": "<div>\n<style scoped>\n    .dataframe tbody tr th:only-of-type {\n        vertical-align: middle;\n    }\n\n    .dataframe tbody tr th {\n        vertical-align: top;\n    }\n\n    .dataframe thead th {\n        text-align: right;\n    }\n</style>\n<table border=\"1\" class=\"dataframe\">\n  <thead>\n    <tr style=\"text-align: right;\">\n      <th></th>\n      <th>Financial Center</th>\n    </tr>\n  </thead>\n  <tbody>\n    <tr>\n      <th>101</th>\n      <td>Tehran</td>\n    </tr>\n    <tr>\n      <th>102</th>\n      <td>Kuwait City</td>\n    </tr>\n    <tr>\n      <th>103</th>\n      <td>Saint Petersburg</td>\n    </tr>\n    <tr>\n      <th>104</th>\n      <td>Xi'an</td>\n    </tr>\n    <tr>\n      <th>105</th>\n      <td>Manila</td>\n    </tr>\n    <tr>\n      <th>106</th>\n      <td>Riyadh</td>\n    </tr>\n    <tr>\n      <th>107</th>\n      <td>Tianjin</td>\n    </tr>\n    <tr>\n      <th>108</th>\n      <td>Hangzhou</td>\n    </tr>\n    <tr>\n      <th>109</th>\n      <td>Dalian</td>\n    </tr>\n    <tr>\n      <th>110</th>\n      <td>Wuhan</td>\n    </tr>\n  </tbody>\n</table>\n</div>",
                        "text/plain": "     Financial Center\n101            Tehran\n102       Kuwait City\n103  Saint Petersburg\n104             Xi'an\n105            Manila\n106            Riyadh\n107           Tianjin\n108          Hangzhou\n109            Dalian\n110             Wuhan"
                    },
                    "execution_count": 7,
                    "metadata": {},
                    "output_type": "execute_result"
                }
            ],
            "source": "dfFin = pd.DataFrame()\ncenter1 = dff[1]['Centre']\ncenter2 = dff[2]['Centre']\ndfFin['Financial Center'] = center1.append(center2, ignore_index=True)\nprint(dfFin.shape)\ndfFin.tail(10)"
        },
        {
            "cell_type": "markdown",
            "metadata": {},
            "source": "### Example of geocoders"
        },
        {
            "cell_type": "code",
            "execution_count": 8,
            "metadata": {},
            "outputs": [],
            "source": "from geopy.geocoders import Nominatim # convert an address into latitude and longitude values"
        },
        {
            "cell_type": "code",
            "execution_count": 36,
            "metadata": {},
            "outputs": [
                {
                    "name": "stdout",
                    "output_type": "stream",
                    "text": "The geograpical coordinate of  New York City  are 40.7127281, -74.0060152.\nThe geograpical coordinate of  London  are 51.5073219, -0.1276474.\nThe geograpical coordinate of  Shanghai  are 31.2322758, 121.4692071.\nThe geograpical coordinate of  Tokyo  are 35.6828387, 139.7594549.\nThe geograpical coordinate of  Hong Kong  are 22.350627, 114.1849161.\n"
                }
            ],
            "source": "for x in range(0,5):\n    address = dfFin.loc[x,'Financial Center']\n    geolocator = Nominatim(user_agent=\"ny_explorer\") \n    location = geolocator.geocode(address)\n    latitude = location.latitude\n    longitude = location.longitude\n    print('The geograpical coordinate of ',dfFin.loc[x,'Financial Center'],  ' are {}, {}.'.format(latitude, longitude))"
        },
        {
            "cell_type": "markdown",
            "metadata": {},
            "source": "### Example of Foursquare API explore venues feature"
        },
        {
            "cell_type": "code",
            "execution_count": 31,
            "metadata": {},
            "outputs": [],
            "source": "# The code was removed by Watson Studio for sharing."
        },
        {
            "cell_type": "code",
            "execution_count": 40,
            "metadata": {},
            "outputs": [
                {
                    "name": "stdout",
                    "output_type": "stream",
                    "text": "Latitude and longitude values of Hong Kong are 22.350627, 114.1849161.\nhttps://api.foursquare.com/v2/venues/explore?&client_id=HGTQKEYL2BGEFGU2JS43LI4AOWASODLQC33WIYUKCBAMAPVK&client_secret=K2CFUHUWDCGEWHF144ORU0QSB32HRYSLVF4FFNYX2DJY3UMJ&v=20180605&ll=22.350627,114.1849161&radius=100000&limit=5\n"
                },
                {
                    "data": {
                        "text/plain": "{'meta': {'code': 200, 'requestId': '5fbbf06d0cc1d6096f04b210'},\n 'response': {'suggestedFilters': {'header': 'Tap to show:',\n   'filters': [{'name': 'Open now', 'key': 'openNow'}]},\n  'headerLocation': 'Hong Kong',\n  'headerFullLocation': 'Hong Kong',\n  'headerLocationGranularity': 'city',\n  'totalResults': 240,\n  'suggestedBounds': {'ne': {'lat': 23.2506279000009,\n    'lng': 115.15620562749005},\n   'sw': {'lat': 21.4506260999991, 'lng': 113.21362657250994}},\n  'groups': [{'type': 'Recommended Places',\n    'name': 'recommended',\n    'items': [{'reasons': {'count': 0,\n       'items': [{'summary': 'This spot is popular',\n         'type': 'general',\n         'reasonName': 'globalInteractionReason'}]},\n      'venue': {'id': '4bb697b3ef159c74493d76f7',\n       'name': 'Nan Lian Garden (\u5357\u84ee\u5712\u6c60)',\n       'location': {'address': '60 Fung Tak Rd',\n        'lat': 22.339033,\n        'lng': 114.204766,\n        'labeledLatLngs': [{'label': 'display',\n          'lat': 22.339033,\n          'lng': 114.204766}],\n        'distance': 2417,\n        'cc': 'HK',\n        'city': '\u94bb\u77f3\u5c71',\n        'country': '\u9999\u6e2f',\n        'formattedAddress': ['60 Fung Tak Rd', '\u9999\u6e2f']},\n       'categories': [{'id': '4bf58dd8d48988d15a941735',\n         'name': 'Garden',\n         'pluralName': 'Gardens',\n         'shortName': 'Garden',\n         'icon': {'prefix': 'https://ss3.4sqi.net/img/categories_v2/parks_outdoors/garden_',\n          'suffix': '.png'},\n         'primary': True}],\n       'photos': {'count': 0, 'groups': []}},\n      'referralId': 'e-0-4bb697b3ef159c74493d76f7-0'},\n     {'reasons': {'count': 0,\n       'items': [{'summary': 'This spot is popular',\n         'type': 'general',\n         'reasonName': 'globalInteractionReason'}]},\n      'venue': {'id': '4b3989daf964a5208d5d25e3',\n       'name': 'Broadway Cinematheque (\u767e\u8001\u532f\u96fb\u5f71\u4e2d\u5fc3)',\n       'location': {'address': 'G/F, Prosperous Garden, 3 Public Square St',\n        'lat': 22.310610181288094,\n        'lng': 114.16873044211665,\n        'labeledLatLngs': [{'label': 'display',\n          'lat': 22.310610181288094,\n          'lng': 114.16873044211665}],\n        'distance': 4756,\n        'cc': 'HK',\n        'city': '\u6cb9\u9ebb\u5730',\n        'country': '\u9999\u6e2f',\n        'formattedAddress': ['G/F, Prosperous Garden, 3 Public Square St',\n         '\u9999\u6e2f']},\n       'categories': [{'id': '4bf58dd8d48988d180941735',\n         'name': 'Multiplex',\n         'pluralName': 'Multiplexes',\n         'shortName': 'Cineplex',\n         'icon': {'prefix': 'https://ss3.4sqi.net/img/categories_v2/arts_entertainment/movietheater_',\n          'suffix': '.png'},\n         'primary': True}],\n       'photos': {'count': 0, 'groups': []}},\n      'referralId': 'e-0-4b3989daf964a5208d5d25e3-1'},\n     {'reasons': {'count': 0,\n       'items': [{'summary': 'This spot is popular',\n         'type': 'general',\n         'reasonName': 'globalInteractionReason'}]},\n      'venue': {'id': '4d8b58621508a1433ce4381e',\n       'name': 'Lion Rock (\u7345\u5b50\u5c71)',\n       'location': {'lat': 22.358955,\n        'lng': 114.18847,\n        'labeledLatLngs': [{'label': 'display',\n          'lat': 22.358955,\n          'lng': 114.18847}],\n        'distance': 996,\n        'cc': 'HK',\n        'neighborhood': 'Sha Tin District',\n        'city': '\u4e5d\u9f8d',\n        'state': 'Kowloon City',\n        'country': '\u9999\u6e2f',\n        'formattedAddress': ['Kowloon City', '\u9999\u6e2f']},\n       'categories': [{'id': '4eb1d4d54b900d56c88a45fc',\n         'name': 'Mountain',\n         'pluralName': 'Mountains',\n         'shortName': 'Mountain',\n         'icon': {'prefix': 'https://ss3.4sqi.net/img/categories_v2/parks_outdoors/mountain_',\n          'suffix': '.png'},\n         'primary': True}],\n       'photos': {'count': 0, 'groups': []}},\n      'referralId': 'e-0-4d8b58621508a1433ce4381e-2'},\n     {'reasons': {'count': 0,\n       'items': [{'summary': 'This spot is popular',\n         'type': 'general',\n         'reasonName': 'globalInteractionReason'}]},\n      'venue': {'id': '4c6a79b5d0bdc9b6ba80a80b',\n       'name': 'The Ritz-Carlton, Hong Kong (\u9999\u6e2f\u9e97\u601d\u5361\u723e\u9813\u9152\u5e97)',\n       'location': {'address': '1 Austin Road West, International Commerce Centre, Tsim Sha Tsui',\n        'lat': 22.3034608,\n        'lng': 114.1602184,\n        'labeledLatLngs': [{'label': 'display',\n          'lat': 22.3034608,\n          'lng': 114.1602184}],\n        'distance': 5833,\n        'cc': 'HK',\n        'city': 'West Kowloon',\n        'country': '\u9999\u6e2f',\n        'formattedAddress': ['1 Austin Road West, International Commerce Centre, Tsim Sha Tsui',\n         '\u9999\u6e2f']},\n       'categories': [{'id': '4bf58dd8d48988d1fa931735',\n         'name': 'Hotel',\n         'pluralName': 'Hotels',\n         'shortName': 'Hotel',\n         'icon': {'prefix': 'https://ss3.4sqi.net/img/categories_v2/travel/hotel_',\n          'suffix': '.png'},\n         'primary': True}],\n       'photos': {'count': 0, 'groups': []}},\n      'referralId': 'e-0-4c6a79b5d0bdc9b6ba80a80b-3'},\n     {'reasons': {'count': 0,\n       'items': [{'summary': 'This spot is popular',\n         'type': 'general',\n         'reasonName': 'globalInteractionReason'}]},\n      'venue': {'id': '4d1cc714fd7bb60cfadca0e1',\n       'name': 'Kowloon Peak (Fei Ngo Shan) (\u98db\u9d5d\u5c71)',\n       'location': {'address': 'Fei Ngo Shan Rd',\n        'lat': 22.35305533171219,\n        'lng': 114.22099390586244,\n        'labeledLatLngs': [{'label': 'display',\n          'lat': 22.35305533171219,\n          'lng': 114.22099390586244}],\n        'distance': 3724,\n        'cc': 'HK',\n        'city': 'Kowloon Peak',\n        'country': '\u9999\u6e2f',\n        'formattedAddress': ['Fei Ngo Shan Rd', '\u9999\u6e2f']},\n       'categories': [{'id': '4eb1d4d54b900d56c88a45fc',\n         'name': 'Mountain',\n         'pluralName': 'Mountains',\n         'shortName': 'Mountain',\n         'icon': {'prefix': 'https://ss3.4sqi.net/img/categories_v2/parks_outdoors/mountain_',\n          'suffix': '.png'},\n         'primary': True}],\n       'photos': {'count': 0, 'groups': []}},\n      'referralId': 'e-0-4d1cc714fd7bb60cfadca0e1-4'}]}]}}"
                    },
                    "execution_count": 40,
                    "metadata": {},
                    "output_type": "execute_result"
                }
            ],
            "source": "import json\nimport requests\n\ncity_latitude = latitude\ncity_longitude = longitude\ncity_name = dfFin.loc[x,'Financial Center']\n\nprint('Latitude and longitude values of {} are {}, {}.'.format(city_name,city_latitude,city_longitude))\nVERSION = '20180605' # Foursquare API version\n\nLIMIT = 5 # limit of number of venues returned by Foursquare API\nradius = 100000 # define radius of 100 km\n# create URL\nurl = 'https://api.foursquare.com/v2/venues/explore?&client_id={}&client_secret={}&v={}&ll={},{}&radius={}&limit={}'.format(\nCLIENT_ID, CLIENT_SECRET, VERSION, city_latitude, city_longitude, radius,\nLIMIT)\nprint(url) # display URL\nresults = requests.get(url).json() \nresults"
        },
        {
            "cell_type": "code",
            "execution_count": null,
            "metadata": {},
            "outputs": [],
            "source": ""
        }
    ],
    "metadata": {
        "kernelspec": {
            "display_name": "Python 3.7",
            "language": "python",
            "name": "python3"
        },
        "language_info": {
            "codemirror_mode": {
                "name": "ipython",
                "version": 3
            },
            "file_extension": ".py",
            "mimetype": "text/x-python",
            "name": "python",
            "nbconvert_exporter": "python",
            "pygments_lexer": "ipython3",
            "version": "3.7.9"
        }
    },
    "nbformat": 4,
    "nbformat_minor": 1
}